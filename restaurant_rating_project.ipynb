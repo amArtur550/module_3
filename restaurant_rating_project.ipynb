{
 "cells": [
  {
   "cell_type": "markdown",
   "metadata": {},
   "source": [
    "# Проект по ML  3-ий модуль"
   ]
  },
  {
   "cell_type": "code",
   "execution_count": 1,
   "metadata": {},
   "outputs": [
    {
     "name": "stderr",
     "output_type": "stream",
     "text": [
      "C:\\Users\\AMARTUR\\anaconda3\\lib\\site-packages\\tqdm\\std.py:697: FutureWarning: The Panel class is removed from pandas. Accessing it from the top-level namespace will also be removed in the next version\n",
      "  from pandas import Panel\n"
     ]
    }
   ],
   "source": [
    "import pandas as pd\n",
    "import numpy as np\n",
    "import seaborn as sns\n",
    "import matplotlib.pyplot as plt\n",
    "from sklearn.preprocessing import StandardScaler\n",
    "import tqdm\n",
    "\n",
    "tqdm.tqdm.pandas()"
   ]
  },
  {
   "cell_type": "markdown",
   "metadata": {},
   "source": [
    "Restaurant_id — идентификационный номер ресторана / сети ресторанов;\n",
    "\n",
    "City — город, в котором находится ресторан;\n",
    "\n",
    "Cuisine Style — кухня или кухни, к которым можно отнести блюда, предлагаемые в ресторане;\n",
    "\n",
    "Ranking — место, которое занимает данный ресторан среди всех ресторанов своего города;\n",
    "\n",
    "Rating — рейтинг ресторана по данным TripAdvisor (именно это значение должна будет предсказывать модель);\n",
    "\n",
    "Price Range — диапазон цен в ресторане;\n",
    "\n",
    "Number of Reviews — количество отзывов о ресторане;\n",
    "\n",
    "Reviews — данные о двух отзывах, которые отображаются на сайте ресторана;\n",
    "\n",
    "URL_TA — URL страницы ресторана на TripAdvisor;\n",
    "\n",
    "ID_TA — идентификатор ресторана в базе данных TripAdvisor."
   ]
  },
  {
   "cell_type": "code",
   "execution_count": 2,
   "metadata": {
    "scrolled": true
   },
   "outputs": [],
   "source": [
    "pd.set_option('display.max_rows', 200)\n",
    "pd.set_option('display.max_column', 200)\n",
    "\n",
    "df = pd.read_csv('main_task.csv')\n",
    "\n",
    "# переименование столбцов для удобства обработки\n",
    "df.rename(columns={'Restaurant_id':'id',\n",
    "                    'Cuisine Style':'Style',\n",
    "                   'Price Range':'PRange',\n",
    "                  'Number of Reviews':'Numb_Reviews',}, inplace=True\n",
    ")\n",
    "\n",
    "# перевод названия столбцов в нижний регистр\n",
    "df.columns = map(str.lower, df.columns)"
   ]
  },
  {
   "cell_type": "code",
   "execution_count": 3,
   "metadata": {},
   "outputs": [
    {
     "name": "stdout",
     "output_type": "stream",
     "text": [
      "<class 'pandas.core.frame.DataFrame'>\n",
      "RangeIndex: 40000 entries, 0 to 39999\n",
      "Data columns (total 10 columns):\n",
      " #   Column        Non-Null Count  Dtype  \n",
      "---  ------        --------------  -----  \n",
      " 0   id            40000 non-null  object \n",
      " 1   city          40000 non-null  object \n",
      " 2   style         30717 non-null  object \n",
      " 3   ranking       40000 non-null  float64\n",
      " 4   rating        40000 non-null  float64\n",
      " 5   prange        26114 non-null  object \n",
      " 6   numb_reviews  37457 non-null  float64\n",
      " 7   reviews       40000 non-null  object \n",
      " 8   url_ta        40000 non-null  object \n",
      " 9   id_ta         40000 non-null  object \n",
      "dtypes: float64(3), object(7)\n",
      "memory usage: 3.1+ MB\n"
     ]
    }
   ],
   "source": [
    "df.info()"
   ]
  },
  {
   "cell_type": "code",
   "execution_count": 4,
   "metadata": {},
   "outputs": [
    {
     "data": {
      "text/plain": [
       "id                  0\n",
       "city                0\n",
       "style            9283\n",
       "ranking             0\n",
       "rating              0\n",
       "prange          13886\n",
       "numb_reviews     2543\n",
       "reviews             0\n",
       "url_ta              0\n",
       "id_ta               0\n",
       "dtype: int64"
      ]
     },
     "execution_count": 4,
     "metadata": {},
     "output_type": "execute_result"
    }
   ],
   "source": [
    "df.isnull().sum()"
   ]
  },
  {
   "cell_type": "markdown",
   "metadata": {},
   "source": [
    "Проверка данных на дубли.\n",
    "\n",
    "Вввиду того, что в столбце Restaurant_id (len(df.index) - df.id.nunique()) значительное количество дублей и само название подсказывает, что id не является индивидуальным номерм исключительно ресторана, для проверки на наличие дублей будет использован столбец \"ID_TA\"."
   ]
  },
  {
   "cell_type": "code",
   "execution_count": 5,
   "metadata": {},
   "outputs": [],
   "source": [
    "# количество повторяющихся занчений столбца id\n",
    "(len(df.index) - df.id.nunique()) \n",
    "\n",
    "# удаляем дубликаты в столбце id_ta\n",
    "df.drop_duplicates('id_ta', inplace=True)"
   ]
  },
  {
   "cell_type": "markdown",
   "metadata": {},
   "source": [
    "Удаляем id_ta, т.к. для обучения модели он не представляет интереса"
   ]
  },
  {
   "cell_type": "code",
   "execution_count": 6,
   "metadata": {},
   "outputs": [],
   "source": [
    "# удаляем id_ta, т.к. для обучения модели он не представляет интереса\n",
    "df.drop(columns=['id_ta', ], inplace=True) #Удаляем id_ta, т.к. для обучения модели он не представляет интереса"
   ]
  },
  {
   "cell_type": "markdown",
   "metadata": {},
   "source": [
    "## 1. Столбец id (идентификационный номер ресторана / сети ресторанов)\n",
    "\n",
    "Данная колонка несет информацию о пренадлежности ресторана к той или иной сети. Соответственно это котегориальный признак. Для использования этого  признака в модели, есть необходимость избавиться от приставки и перевести это признак в тип float."
   ]
  },
  {
   "cell_type": "code",
   "execution_count": 7,
   "metadata": {},
   "outputs": [],
   "source": [
    "# преобразовал столбец id в формат float\n",
    "df['id'] = df['id'].apply(lambda x: float(x.replace('id_', ''))) "
   ]
  },
  {
   "cell_type": "code",
   "execution_count": 8,
   "metadata": {},
   "outputs": [
    {
     "data": {
      "text/html": [
       "<div>\n",
       "<style scoped>\n",
       "    .dataframe tbody tr th:only-of-type {\n",
       "        vertical-align: middle;\n",
       "    }\n",
       "\n",
       "    .dataframe tbody tr th {\n",
       "        vertical-align: top;\n",
       "    }\n",
       "\n",
       "    .dataframe thead th {\n",
       "        text-align: right;\n",
       "    }\n",
       "</style>\n",
       "<table border=\"1\" class=\"dataframe\">\n",
       "  <thead>\n",
       "    <tr style=\"text-align: right;\">\n",
       "      <th></th>\n",
       "      <th>id</th>\n",
       "      <th>city</th>\n",
       "      <th>style</th>\n",
       "      <th>ranking</th>\n",
       "      <th>rating</th>\n",
       "      <th>prange</th>\n",
       "      <th>numb_reviews</th>\n",
       "      <th>reviews</th>\n",
       "      <th>url_ta</th>\n",
       "      <th>Rest_in_chain</th>\n",
       "    </tr>\n",
       "  </thead>\n",
       "  <tbody>\n",
       "    <tr>\n",
       "      <th>22010</th>\n",
       "      <td>4933.0</td>\n",
       "      <td>Barcelona</td>\n",
       "      <td>['Mediterranean']</td>\n",
       "      <td>4934.0</td>\n",
       "      <td>3.5</td>\n",
       "      <td>$</td>\n",
       "      <td>147.0</td>\n",
       "      <td>[['Good quality, very cheap buffet', 'A satisf...</td>\n",
       "      <td>/Restaurant_Review-g187497-d2520445-Reviews-Te...</td>\n",
       "      <td>4</td>\n",
       "    </tr>\n",
       "    <tr>\n",
       "      <th>1505</th>\n",
       "      <td>2100.0</td>\n",
       "      <td>London</td>\n",
       "      <td>['Bar', 'British', 'Pub', 'Gastropub']</td>\n",
       "      <td>2104.0</td>\n",
       "      <td>4.0</td>\n",
       "      <td>$</td>\n",
       "      <td>171.0</td>\n",
       "      <td>[['morning coffee', 'Excellent pub food'], ['1...</td>\n",
       "      <td>/Restaurant_Review-g186338-d731560-Reviews-Red...</td>\n",
       "      <td>6</td>\n",
       "    </tr>\n",
       "    <tr>\n",
       "      <th>35462</th>\n",
       "      <td>1623.0</td>\n",
       "      <td>Milan</td>\n",
       "      <td>['Italian']</td>\n",
       "      <td>1625.0</td>\n",
       "      <td>4.0</td>\n",
       "      <td>NaN</td>\n",
       "      <td>106.0</td>\n",
       "      <td>[[], []]</td>\n",
       "      <td>/Restaurant_Review-g187849-d4104376-Reviews-Un...</td>\n",
       "      <td>7</td>\n",
       "    </tr>\n",
       "    <tr>\n",
       "      <th>28275</th>\n",
       "      <td>747.0</td>\n",
       "      <td>Hamburg</td>\n",
       "      <td>['Middle Eastern', 'Vegetarian Friendly']</td>\n",
       "      <td>748.0</td>\n",
       "      <td>4.0</td>\n",
       "      <td>$$ - $$$</td>\n",
       "      <td>39.0</td>\n",
       "      <td>[['Interesting and popular restaurant', 'The t...</td>\n",
       "      <td>/Restaurant_Review-g187331-d1039208-Reviews-QA...</td>\n",
       "      <td>10</td>\n",
       "    </tr>\n",
       "    <tr>\n",
       "      <th>17778</th>\n",
       "      <td>281.0</td>\n",
       "      <td>Oslo</td>\n",
       "      <td>NaN</td>\n",
       "      <td>282.0</td>\n",
       "      <td>4.5</td>\n",
       "      <td>NaN</td>\n",
       "      <td>12.0</td>\n",
       "      <td>[['Relaxed', 'Very nice restaurant!'], ['09/24...</td>\n",
       "      <td>/Restaurant_Review-g190479-d12473251-Reviews-G...</td>\n",
       "      <td>11</td>\n",
       "    </tr>\n",
       "  </tbody>\n",
       "</table>\n",
       "</div>"
      ],
      "text/plain": [
       "           id       city                                      style  ranking  \\\n",
       "22010  4933.0  Barcelona                          ['Mediterranean']   4934.0   \n",
       "1505   2100.0     London     ['Bar', 'British', 'Pub', 'Gastropub']   2104.0   \n",
       "35462  1623.0      Milan                                ['Italian']   1625.0   \n",
       "28275   747.0    Hamburg  ['Middle Eastern', 'Vegetarian Friendly']    748.0   \n",
       "17778   281.0       Oslo                                        NaN    282.0   \n",
       "\n",
       "       rating    prange  numb_reviews  \\\n",
       "22010     3.5         $         147.0   \n",
       "1505      4.0         $         171.0   \n",
       "35462     4.0       NaN         106.0   \n",
       "28275     4.0  $$ - $$$          39.0   \n",
       "17778     4.5       NaN          12.0   \n",
       "\n",
       "                                                 reviews  \\\n",
       "22010  [['Good quality, very cheap buffet', 'A satisf...   \n",
       "1505   [['morning coffee', 'Excellent pub food'], ['1...   \n",
       "35462                                           [[], []]   \n",
       "28275  [['Interesting and popular restaurant', 'The t...   \n",
       "17778  [['Relaxed', 'Very nice restaurant!'], ['09/24...   \n",
       "\n",
       "                                                  url_ta  Rest_in_chain  \n",
       "22010  /Restaurant_Review-g187497-d2520445-Reviews-Te...              4  \n",
       "1505   /Restaurant_Review-g186338-d731560-Reviews-Red...              6  \n",
       "35462  /Restaurant_Review-g187849-d4104376-Reviews-Un...              7  \n",
       "28275  /Restaurant_Review-g187331-d1039208-Reviews-QA...             10  \n",
       "17778  /Restaurant_Review-g190479-d12473251-Reviews-G...             11  "
      ]
     },
     "metadata": {},
     "output_type": "display_data"
    }
   ],
   "source": [
    "# выделяем не сетевые рестораны\n",
    "from collections import Counter\n",
    "\n",
    "c = Counter(df['id'])\n",
    "\n",
    "res = [x for x in df['id'] if c[x] == 1]\n",
    "\n",
    "len(res)\n",
    "\n",
    "# если ресторан не сетевой, присваиваем 1, если сетевой - количество ресторанов в сети\n",
    "df['Rest_in_chain'] = df['id'].apply(lambda x: 1 if x in res else c[x])\n",
    "\n",
    "display(df.sample(5))\n"
   ]
  },
  {
   "cell_type": "markdown",
   "metadata": {},
   "source": [
    "## 2. Столбец city (город, в котором находится ресторан)\n",
    "\n",
    "Признак в данной колоне несет котегориальный характер. Для использования его в модели, есть необходимость dummy-признак"
   ]
  },
  {
   "cell_type": "markdown",
   "metadata": {},
   "source": [
    "## 3. Столбец style (кухня или кухни, к которым можно отнести блюда, предлагаемые в ресторане)\n",
    "\n",
    "Данная переменная носит котегориальный характер. Необходимо также приобразовать ее в dummy-признак."
   ]
  },
  {
   "cell_type": "code",
   "execution_count": 9,
   "metadata": {},
   "outputs": [
    {
     "name": "stderr",
     "output_type": "stream",
     "text": [
      "100%|███████████████████████████████████| 39980/39980 [01:49<00:00, 366.62it/s]\n"
     ]
    },
    {
     "data": {
      "text/plain": [
       "'Polynesian'"
      ]
     },
     "execution_count": 9,
     "metadata": {},
     "output_type": "execute_result"
    }
   ],
   "source": [
    "def style_preprocessing_func(x):\n",
    "    \"\"\"\n",
    "    Функция форматирует строку из такой строки:\n",
    "    ['European', 'French', 'International']\n",
    "    Делаем такую:\n",
    "    European|French|International\n",
    "    \"\"\"\n",
    "    if not pd.isnull(x):\n",
    "        x = x.replace(\"'\", '').replace('[', '').replace(']', '')\n",
    "        x = x.split(\", \")\n",
    "        return '|'.join(sorted(x))\n",
    "    return 'Unknown'\n",
    "\n",
    "# создаем столбец (на сонове котрого будут заполнятся столбцы-dummy признака)\n",
    "# создаем множество котрое в последствии станет столбцами и сформирует колонки\n",
    "df['style_preprocessed'] = df['style'].apply(style_preprocessing_func)\n",
    "style_names = set(\n",
    "    '|'.join(df['style_preprocessed'].values)\n",
    "    .split('|')\n",
    ")\n",
    "\n",
    "# создаем пустые столбцы с названиями стилей\n",
    "for style_name in style_names:\n",
    "    df[style_name] = 0\n",
    "    \n",
    "# заполняем только что созданные столбцы с помощью колонки style_preprocessed или style\n",
    "def fill_style_dummies(row, style_names):\n",
    "    for style_name in style_names:\n",
    "        if style_name in row['style_preprocessed']:\n",
    "            row[style_name] = 1\n",
    "    return row\n",
    "\n",
    "df = df.progress_apply(\n",
    "    fill_style_dummies,\n",
    "    axis=1,\n",
    "    args=(style_names, )\n",
    ")\n",
    "\n",
    "style_name"
   ]
  },
  {
   "cell_type": "code",
   "execution_count": 10,
   "metadata": {},
   "outputs": [],
   "source": [
    "df['Cuis_Style_in_Rest'] = df['style'].apply(\n",
    "    lambda x: 1 if pd.isna(x)==True \n",
    "    else len(x[1:-1].split(', ')) \n",
    ")"
   ]
  },
  {
   "cell_type": "markdown",
   "metadata": {},
   "source": [
    "## 4. Столбец ranking (место, которое занимает данный ресторан среди всех ресторанов своего города)\n",
    "\n",
    "Опираясь на здравый смысл, понимаем, что место не может принять отрицательное или нулевое значение."
   ]
  },
  {
   "cell_type": "code",
   "execution_count": 11,
   "metadata": {},
   "outputs": [
    {
     "name": "stdout",
     "output_type": "stream",
     "text": [
      "В данном столбце 0 незаполненых значений.\n",
      "В данном столбце 0 выбросов меньше ноля.\n",
      "В данном столбце 0 выбросов равных нолю.\n"
     ]
    }
   ],
   "source": [
    "print('В данном столбце {} незаполненых значений.'.format(df.ranking.isnull().sum()))\n",
    "print('В данном столбце {} выбросов меньше ноля.'.format(np.sum(df.ranking < 0)))\n",
    "print('В данном столбце {} выбросов равных нолю.'.format(np.sum(df.ranking ==0)))"
   ]
  },
  {
   "cell_type": "code",
   "execution_count": 12,
   "metadata": {},
   "outputs": [
    {
     "data": {
      "text/plain": [
       "city\n",
       "London        16444.0\n",
       "Paris         13986.0\n",
       "Madrid         8809.0\n",
       "Barcelona      7796.0\n",
       "Berlin         6372.0\n",
       "Milan          6275.0\n",
       "Rome           5946.0\n",
       "Prague         4188.0\n",
       "Lisbon         3717.0\n",
       "Vienna         3444.0\n",
       "Amsterdam      3249.0\n",
       "Brussels       3004.0\n",
       "Munich         2763.0\n",
       "Hamburg        2736.0\n",
       "Lyon           2666.0\n",
       "Stockholm      2464.0\n",
       "Budapest       2438.0\n",
       "Warsaw         2141.0\n",
       "Copenhagen     1964.0\n",
       "Dublin         1960.0\n",
       "Athens         1787.0\n",
       "Edinburgh      1766.0\n",
       "Zurich         1590.0\n",
       "Oporto         1484.0\n",
       "Geneva         1413.0\n",
       "Krakow         1244.0\n",
       "Helsinki       1141.0\n",
       "Oslo           1137.0\n",
       "Bratislava      889.0\n",
       "Luxembourg      621.0\n",
       "Ljubljana       468.0\n",
       "Name: ranking, dtype: float64"
      ]
     },
     "execution_count": 12,
     "metadata": {},
     "output_type": "execute_result"
    }
   ],
   "source": [
    "# находим максимальное значение Ranking для каждого города\n",
    "df.groupby(['city'])['ranking'].max().sort_values(ascending = False)\n"
   ]
  },
  {
   "cell_type": "code",
   "execution_count": 14,
   "metadata": {},
   "outputs": [],
   "source": [
    "# создаем новый признак \"Количество ресторанов в городе\" \n",
    "df['Rest_in_City'] = \"\"\n",
    "df['Rest_in_City'] = df['city'].map({'London':        16444.0,\n",
    "                                         'Paris':         13986.0,\n",
    "                                         'Madrid':         8809.0,\n",
    "                                         'Barcelona':      7796.0,\n",
    "                                         'Berlin' :        6372.0,\n",
    "                                         'Milan':          6275.0,\n",
    "                                         'Rome':           5946.0,\n",
    "                                         'Prague':         4188.0,\n",
    "                                         'Lisbon':         3717.0,\n",
    "                                         'Vienna':         3444.0,\n",
    "                                         'Amsterdam':      3249.0,\n",
    "                                         'Brussels':       3004.0,\n",
    "                                         'Munich':         2763.0,\n",
    "                                         'Hamburg':        2736.0,\n",
    "                                         'Lyon':           2666.0,\n",
    "                                         'Stockholm':      2464.0,\n",
    "                                         'Budapest':       2438.0,\n",
    "                                         'Warsaw':         2141.0,\n",
    "                                         'Copenhagen':     1964.0,\n",
    "                                         'Dublin':         1960.0,\n",
    "                                         'Athens':         1787.0,\n",
    "                                         'Edinburgh':      1766.0,\n",
    "                                         'Zurich':         1590.0,\n",
    "                                         'Oporto':         1484.0,\n",
    "                                         'Geneva':         1413.0,\n",
    "                                         'Krakow':         1244.0,\n",
    "                                         'Helsinki':       1141.0,\n",
    "                                         'Oslo':           1137.0,\n",
    "                                         'Bratislava':      889.0,\n",
    "                                         'Luxembourg':      621.0,\n",
    "                                         'Ljubljana':       468.0}) "
   ]
  },
  {
   "cell_type": "markdown",
   "metadata": {},
   "source": [
    "У нас есть количество отзывов о каждом ресторане. Давайте сгруппируем их по городам."
   ]
  },
  {
   "cell_type": "code",
   "execution_count": 15,
   "metadata": {},
   "outputs": [
    {
     "data": {
      "text/plain": [
       "city\n",
       "London        746139.0\n",
       "Rome          583983.0\n",
       "Paris         561444.0\n",
       "Milan         352637.0\n",
       "Barcelona     337566.0\n",
       "Madrid        289335.0\n",
       "Prague        159005.0\n",
       "Lisbon        153705.0\n",
       "Amsterdam     151909.0\n",
       "Edinburgh     134393.0\n",
       "Berlin        129786.0\n",
       "Budapest      119171.0\n",
       "Dublin         99463.0\n",
       "Vienna         89407.0\n",
       "Brussels       88021.0\n",
       "Lyon           73148.0\n",
       "Munich         67301.0\n",
       "Oporto         64979.0\n",
       "Stockholm      59075.0\n",
       "Athens         58039.0\n",
       "Copenhagen     56498.0\n",
       "Krakow         50035.0\n",
       "Warsaw         42169.0\n",
       "Hamburg        40576.0\n",
       "Zurich         39167.0\n",
       "Oslo           34745.0\n",
       "Geneva         27793.0\n",
       "Helsinki       21252.0\n",
       "Luxembourg     16184.0\n",
       "Bratislava     13697.0\n",
       "Ljubljana      12646.0\n",
       "Name: numb_reviews, dtype: float64"
      ]
     },
     "execution_count": 15,
     "metadata": {},
     "output_type": "execute_result"
    }
   ],
   "source": [
    "# Сгруппируем колличество отзывов по городам.\n",
    "df.groupby('city')['numb_reviews'].sum().sort_values(ascending=False)"
   ]
  },
  {
   "cell_type": "code",
   "execution_count": 16,
   "metadata": {},
   "outputs": [],
   "source": [
    "# Создаем новый признак \"Количество озывов в городе\".\n",
    "df['Reviews_in_City'] = \"\"\n",
    "df['Reviews_in_City'] = df['city'].map({'London':     746139,\n",
    "                                 'Paris':      561444,\n",
    "                                 'Barcelona':  337566,\n",
    "                                 'Rome':       583983,\n",
    "                                 'Madrid':     291655,\n",
    "                                 'Milan':      352637,\n",
    "                                 'Berlin':     129786,\n",
    "                                 'Prague':     159005,\n",
    "                                 'Amsterdam':  151909,\n",
    "                                 'Lisbon':     153705,\n",
    "                                 'Vienna':     89407,\n",
    "                                 'Budapest':   119171,\n",
    "                                 'Brussels':   88021,\n",
    "                                 'Edinburgh':  134393,\n",
    "                                 'Dublin':     99463,\n",
    "                                 'Munich':     67301,\n",
    "                                 'Stockholm':  59075,\n",
    "                                 'Warsaw':     42169,\n",
    "                                 'Hamburg':    40576,\n",
    "                                 'Copenhagen': 56498,\n",
    "                                 'Athens':     658039,\n",
    "                                 'Zurich':     39167,\n",
    "                                 'Lyon':       73148,\n",
    "                                 'Krakow':     50035,\n",
    "                                 'Oporto':     64979,\n",
    "                                 'Geneva':     27793,\n",
    "                                 'Oslo':       34745,\n",
    "                                 'Helsinki':   21252,\n",
    "                                 'Bratislava': 13697,\n",
    "                                 'Ljubljana':  12646,\n",
    "                                 'Luxembourg': 16184}) \n"
   ]
  },
  {
   "cell_type": "code",
   "execution_count": 17,
   "metadata": {},
   "outputs": [],
   "source": [
    "df.ranking = np.log(df.ranking)"
   ]
  },
  {
   "cell_type": "code",
   "execution_count": 18,
   "metadata": {},
   "outputs": [
    {
     "data": {
      "text/plain": [
       "<AxesSubplot:>"
      ]
     },
     "execution_count": 18,
     "metadata": {},
     "output_type": "execute_result"
    },
    {
     "data": {
      "image/png": "[encoded data removed]",
      "text/plain": [
       "<Figure size 432x288 with 1 Axes>"
      ]
     },
     "metadata": {
      "needs_background": "light"
     },
     "output_type": "display_data"
    }
   ],
   "source": [
    "df.ranking.hist(bins=70)"
   ]
  },
  {
   "cell_type": "markdown",
   "metadata": {},
   "source": [
    "# >>>Целевая переменная<<<\n",
    "\n",
    "## 5. Столбец rating (рейтинг ресторана по данным TripAdvisor)\n",
    "\n",
    "Данный признак носит ординальный характер. Судя по гистограмме рейтинг оценивается по 5-ти бальный шкале, выбросов нет"
   ]
  },
  {
   "cell_type": "code",
   "execution_count": 13,
   "metadata": {},
   "outputs": [
    {
     "name": "stdout",
     "output_type": "stream",
     "text": [
      "В данном колонке 0 не заполненых значений.\n",
      "В данной колонке 0 значений меньше ноля.\n",
      "В данной колонке 0 значений больше 5-ти.\n"
     ]
    }
   ],
   "source": [
    "print('В данном колонке {} не заполненых значений.'.format(df.rating.isna().sum()))\n",
    "print('В данной колонке {} значений меньше ноля.'.format(np.sum(df.rating < 0)))\n",
    "print('В данной колонке {} значений больше 5-ти.'.format(np.sum(df.rating >5)))"
   ]
  },
  {
   "cell_type": "code",
   "execution_count": 135,
   "metadata": {},
   "outputs": [
    {
     "data": {
      "text/plain": [
       "<AxesSubplot:>"
      ]
     },
     "execution_count": 135,
     "metadata": {},
     "output_type": "execute_result"
    },
    {
     "data": {
      "image/png": "[encoded data removed]",
      "text/plain": [
       "<Figure size 432x288 with 1 Axes>"
      ]
     },
     "metadata": {
      "needs_background": "light"
     },
     "output_type": "display_data"
    }
   ],
   "source": [
    "df.rating.hist(bins=17)"
   ]
  },
  {
   "cell_type": "markdown",
   "metadata": {},
   "source": [
    "## 6 Столбец prange (диапазон цен в ресторане)\n",
    "\n",
    "В данном признаке имеется большое количество незаполненых значений. Ввиду того, что он будет переведен в dummy-признак, эти пропущенные значения следует заполнить 0 (dummy_na=True)."
   ]
  },
  {
   "cell_type": "code",
   "execution_count": 19,
   "metadata": {},
   "outputs": [
    {
     "name": "stdout",
     "output_type": "stream",
     "text": [
      "В данном колонке 13879 не заполненых значений.\n"
     ]
    }
   ],
   "source": [
    "print('В данном колонке {} не заполненых значений.'.format(df.prange.isna().sum()))"
   ]
  },
  {
   "cell_type": "code",
   "execution_count": 20,
   "metadata": {},
   "outputs": [
    {
     "data": {
      "text/plain": [
       "13879"
      ]
     },
     "execution_count": 20,
     "metadata": {},
     "output_type": "execute_result"
    }
   ],
   "source": [
    "df.prange.isna().sum()"
   ]
  },
  {
   "cell_type": "code",
   "execution_count": 115,
   "metadata": {},
   "outputs": [
    {
     "data": {
      "text/plain": [
       "$$ - $$$    18412\n",
       "$            6279\n",
       "$$$$         1423\n",
       "Name: prange, dtype: int64"
      ]
     },
     "execution_count": 115,
     "metadata": {},
     "output_type": "execute_result"
    }
   ],
   "source": [
    "df.prange.value_counts()"
   ]
  },
  {
   "cell_type": "markdown",
   "metadata": {},
   "source": [
    "## 7. Столбец numb_reviews (количество отзывов о ресторане).\n",
    "Данный признак носит числовой характер и имеет достаточно большой разброс. Наличие большого разброса может говорить как и о том, что персонал ресторана следит за своей целевой аудиторией, устраивает акции, а это означает, что и в целом следить за бизнесом, так и о том, что для увеличения рейтинга отзывы накручиваются. В любом случае, это влияет на целевую переменную. Ввиду очень большого разброса и очень не равномерного распределения, прологарифмирую этот признак."
   ]
  },
  {
   "cell_type": "code",
   "execution_count": 21,
   "metadata": {},
   "outputs": [
    {
     "data": {
      "text/plain": [
       "<AxesSubplot:>"
      ]
     },
     "execution_count": 21,
     "metadata": {},
     "output_type": "execute_result"
    },
    {
     "data": {
      "image/png": "[encoded data removed]",
      "text/plain": [
       "<Figure size 432x288 with 1 Axes>"
      ]
     },
     "metadata": {
      "needs_background": "light"
     },
     "output_type": "display_data"
    }
   ],
   "source": [
    "df.numb_reviews.hist(bins=50)"
   ]
  },
  {
   "cell_type": "code",
   "execution_count": 142,
   "metadata": {},
   "outputs": [
    {
     "name": "stdout",
     "output_type": "stream",
     "text": [
      "В данном столбце 0 незаполненых значений.\n",
      "В данном столбце 0 выбросов меньше ноля.\n",
      "В данном столбце 2543 значений равных нолю.\n"
     ]
    }
   ],
   "source": [
    "print('В данном столбце {} незаполненых значений.'.format(df.numb_reviews.isnull().sum()))\n",
    "print('В данном столбце {} выбросов меньше ноля.'.format(np.sum(df.numb_reviews < 0)))\n",
    "print('В данном столбце {} значений равных нолю.'.format(np.sum(df.numb_reviews ==0)))\n"
   ]
  },
  {
   "cell_type": "code",
   "execution_count": 22,
   "metadata": {},
   "outputs": [],
   "source": [
    "df.numb_reviews = np.log(df.numb_reviews)"
   ]
  },
  {
   "cell_type": "code",
   "execution_count": 23,
   "metadata": {},
   "outputs": [
    {
     "data": {
      "text/plain": [
       "<AxesSubplot:>"
      ]
     },
     "execution_count": 23,
     "metadata": {},
     "output_type": "execute_result"
    },
    {
     "data": {
      "image/png": "[encoded data removed]",
      "text/plain": [
       "<Figure size 432x288 with 1 Axes>"
      ]
     },
     "metadata": {
      "needs_background": "light"
     },
     "output_type": "display_data"
    }
   ],
   "source": [
    "df.numb_reviews.hist(bins=50)"
   ]
  },
  {
   "cell_type": "code",
   "execution_count": 24,
   "metadata": {},
   "outputs": [],
   "source": [
    "df.numb_reviews = df.numb_reviews.fillna(0)"
   ]
  },
  {
   "cell_type": "markdown",
   "metadata": {},
   "source": [
    "## 8. Столбец reviews (данные о двух отзывах, которые отображаются на сайте ресторана)\n",
    "\n",
    "Данный признак неосит тип 'object', не подходит для применения ML."
   ]
  },
  {
   "cell_type": "markdown",
   "metadata": {},
   "source": [
    "## 9. Столбец url_ta (URL страницы ресторана на TripAdvisor)\n",
    "\n",
    "Данный признак имеет тип 'object', для обучения дальнейшей модели не подойдет. По данной колонке можно удостовериться в том, что дубликаты действительно есть. Данный признак в последствии будет удален."
   ]
  },
  {
   "cell_type": "markdown",
   "metadata": {},
   "source": [
    "## 10. Столбец id_ta (идентификатор ресторана в базе данных TripAdvisor)"
   ]
  },
  {
   "cell_type": "markdown",
   "metadata": {},
   "source": [
    "По данному признаку произведен поиск дубликатов, т.к. он носит индивидуальный характер в отлича от признака id. После он был удален, ввиду того, что больше не представлял интереса."
   ]
  },
  {
   "cell_type": "markdown",
   "metadata": {},
   "source": [
    "## Корреляционная признаков"
   ]
  },
  {
   "cell_type": "code",
   "execution_count": 40,
   "metadata": {},
   "outputs": [
    {
     "data": {
      "text/plain": [
       "<AxesSubplot:>"
      ]
     },
     "execution_count": 40,
     "metadata": {},
     "output_type": "execute_result"
    },
    {
     "data": {
      "image/png": "[encoded data removed]",
      "text/plain": [
       "<Figure size 1080x720 with 2 Axes>"
      ]
     },
     "metadata": {
      "needs_background": "light"
     },
     "output_type": "display_data"
    }
   ],
   "source": [
    "plt.rcParams['figure.figsize'] = (15,10)\n",
    "sns.heatmap(df.corr(),)"
   ]
  },
  {
   "cell_type": "markdown",
   "metadata": {},
   "source": [
    " ## Финальное удаление признаков\n",
    " \n",
    " После преобразований даные признаки стоит удалить"
   ]
  },
  {
   "cell_type": "code",
   "execution_count": 25,
   "metadata": {},
   "outputs": [],
   "source": [
    "df.drop(\n",
    "    columns=[\n",
    "        'style', 'style_preprocessed', 'reviews', 'url_ta',\n",
    "    ], inplace=True)"
   ]
  },
  {
   "cell_type": "markdown",
   "metadata": {},
   "source": [
    "## Преобразование признаков в dummy-переменые"
   ]
  },
  {
   "cell_type": "code",
   "execution_count": 26,
   "metadata": {},
   "outputs": [],
   "source": [
    "df = pd.get_dummies(df, columns=['city', 'prange'], \n",
    "                    drop_first=True, dummy_na=True\n",
    ")"
   ]
  },
  {
   "cell_type": "code",
   "execution_count": 27,
   "metadata": {},
   "outputs": [
    {
     "data": {
      "text/plain": [
       "(39980, 168)"
      ]
     },
     "execution_count": 27,
     "metadata": {},
     "output_type": "execute_result"
    }
   ],
   "source": [
    "df.shape"
   ]
  },
  {
   "cell_type": "code",
   "execution_count": 28,
   "metadata": {},
   "outputs": [
    {
     "data": {
      "text/plain": [
       "id                     0\n",
       "ranking                0\n",
       "rating                 0\n",
       "numb_reviews           0\n",
       "Rest_in_chain          0\n",
       "Grill                  0\n",
       "Barbecue               0\n",
       "Moroccan               0\n",
       "International          0\n",
       "Chinese                0\n",
       "Delicatessen           0\n",
       "Singaporean            0\n",
       "Asian                  0\n",
       "Nepali                 0\n",
       "Southwestern           0\n",
       "Norwegian              0\n",
       "Mongolian              0\n",
       "Peruvian               0\n",
       "Argentinean            0\n",
       "Albanian               0\n",
       "Steakhouse             0\n",
       "Romanian               0\n",
       "Central European       0\n",
       "Seafood                0\n",
       "Chilean                0\n",
       "Mediterranean          0\n",
       "Dutch                  0\n",
       "Fujian                 0\n",
       "South American         0\n",
       "French                 0\n",
       "Ecuadorean             0\n",
       "Danish                 0\n",
       "Taiwanese              0\n",
       "Thai                   0\n",
       "Australian             0\n",
       "Native American        0\n",
       "Pizza                  0\n",
       "American               0\n",
       "Latvian                0\n",
       "Persian                0\n",
       "Cafe                   0\n",
       "Fusion                 0\n",
       "Scottish               0\n",
       "Tibetan                0\n",
       "Pakistani              0\n",
       "Hawaiian               0\n",
       "Central Asian          0\n",
       "Spanish                0\n",
       "Belgian                0\n",
       "Polish                 0\n",
       "Contemporary           0\n",
       "Gastropub              0\n",
       "Turkish                0\n",
       "European               0\n",
       "Xinjiang               0\n",
       "Latin                  0\n",
       "Eastern European       0\n",
       "Wine Bar               0\n",
       "Austrian               0\n",
       "Croatian               0\n",
       "African                0\n",
       "Indian                 0\n",
       "Italian                0\n",
       "Jamaican               0\n",
       "Pub                    0\n",
       "Lebanese               0\n",
       "Cuban                  0\n",
       "Caribbean              0\n",
       "Russian                0\n",
       "Street Food            0\n",
       "Swiss                  0\n",
       "Fast Food              0\n",
       "Bangladeshi            0\n",
       "Brazilian              0\n",
       "Vegetarian Friendly    0\n",
       "Diner                  0\n",
       "Afghani                0\n",
       "Minority Chinese       0\n",
       "Cambodian              0\n",
       "Welsh                  0\n",
       "Colombian              0\n",
       "Mexican                0\n",
       "German                 0\n",
       "Sri Lankan             0\n",
       "Soups                  0\n",
       "Irish                  0\n",
       "Canadian               0\n",
       "Bar                    0\n",
       "Japanese               0\n",
       "Vietnamese             0\n",
       "Halal                  0\n",
       "Portuguese             0\n",
       "Scandinavian           0\n",
       "Arabic                 0\n",
       "Caucasian              0\n",
       "Ethiopian              0\n",
       "Venezuelan             0\n",
       "Korean                 0\n",
       "Middle Eastern         0\n",
       "Yunnan                 0\n",
       "Malaysian              0\n",
       "Uzbek                  0\n",
       "British                0\n",
       "Brew Pub               0\n",
       "Georgian               0\n",
       "Balti                  0\n",
       "Greek                  0\n",
       "New Zealand            0\n",
       "Armenian               0\n",
       "Salvadoran             0\n",
       "Central American       0\n",
       "Kosher                 0\n",
       "Sushi                  0\n",
       "Czech                  0\n",
       "Cajun & Creole         0\n",
       "Slovenian              0\n",
       "Unknown                0\n",
       "Healthy                0\n",
       "Tunisian               0\n",
       "Hungarian              0\n",
       "Israeli                0\n",
       "Vegan Options          0\n",
       "Burmese                0\n",
       "Swedish                0\n",
       "Gluten Free Options    0\n",
       "Indonesian             0\n",
       "Egyptian               0\n",
       "Ukrainian              0\n",
       "Azerbaijani            0\n",
       "Filipino               0\n",
       "Polynesian             0\n",
       "Cuis_Style_in_Rest     0\n",
       "Rest_in_City           0\n",
       "Reviews_in_City        0\n",
       "city_Athens            0\n",
       "city_Barcelona         0\n",
       "city_Berlin            0\n",
       "city_Bratislava        0\n",
       "city_Brussels          0\n",
       "city_Budapest          0\n",
       "city_Copenhagen        0\n",
       "city_Dublin            0\n",
       "city_Edinburgh         0\n",
       "city_Geneva            0\n",
       "city_Hamburg           0\n",
       "city_Helsinki          0\n",
       "city_Krakow            0\n",
       "city_Lisbon            0\n",
       "city_Ljubljana         0\n",
       "city_London            0\n",
       "city_Luxembourg        0\n",
       "city_Lyon              0\n",
       "city_Madrid            0\n",
       "city_Milan             0\n",
       "city_Munich            0\n",
       "city_Oporto            0\n",
       "city_Oslo              0\n",
       "city_Paris             0\n",
       "city_Prague            0\n",
       "city_Rome              0\n",
       "city_Stockholm         0\n",
       "city_Vienna            0\n",
       "city_Warsaw            0\n",
       "city_Zurich            0\n",
       "city_nan               0\n",
       "prange_$$ - $$$        0\n",
       "prange_$$$$            0\n",
       "prange_nan             0\n",
       "dtype: int64"
      ]
     },
     "execution_count": 28,
     "metadata": {},
     "output_type": "execute_result"
    }
   ],
   "source": [
    "df.isna().sum()"
   ]
  },
  {
   "cell_type": "markdown",
   "metadata": {},
   "source": [
    "# Разбиваем датафрейм на части, необходимые для обучения и тестирования модели"
   ]
  },
  {
   "cell_type": "code",
   "execution_count": 29,
   "metadata": {},
   "outputs": [],
   "source": [
    "# Х - данные с информацией о ресторанах, у - целевая переменная (рейтинги ресторанов)\n",
    "X = df.drop(['id', 'rating'], axis = 1)\n",
    "y = df['rating']"
   ]
  },
  {
   "cell_type": "code",
   "execution_count": 30,
   "metadata": {},
   "outputs": [],
   "source": [
    "# Загружаем специальный инструмент для разбивки:\n",
    "from sklearn.model_selection import train_test_split"
   ]
  },
  {
   "cell_type": "code",
   "execution_count": 31,
   "metadata": {},
   "outputs": [],
   "source": [
    "# Наборы данных с меткой \"train\" будут использоваться для обучения модели, \"test\" - для тестирования.\n",
    "# Для тестирования мы будем использовать 25% от исходного датасета.\n",
    "X_train, X_test, y_train, y_test = train_test_split(X, y, test_size=0.25)"
   ]
  },
  {
   "cell_type": "markdown",
   "metadata": {},
   "source": [
    "# Создаём, обучаем и тестируем модель"
   ]
  },
  {
   "cell_type": "code",
   "execution_count": 32,
   "metadata": {},
   "outputs": [],
   "source": [
    "# Импортируем необходимые библиотеки:\n",
    "from sklearn.ensemble import RandomForestRegressor # инструмент для создания и обучения модели\n",
    "from sklearn import metrics # инструменты для оценки точности модели"
   ]
  },
  {
   "cell_type": "code",
   "execution_count": 36,
   "metadata": {},
   "outputs": [],
   "source": [
    "# Создаём модель\n",
    "regr = RandomForestRegressor(n_estimators=100)\n",
    "\n",
    "# Обучаем модель на тестовом наборе данных\n",
    "regr.fit(X_train, y_train)\n",
    "\n",
    "# Используем обученную модель для предсказания рейтинга ресторанов в тестовой выборке.\n",
    "# Предсказанные значения записываем в переменную y_pred\n",
    "y_pred = regr.predict(X_test)"
   ]
  },
  {
   "cell_type": "code",
   "execution_count": null,
   "metadata": {},
   "outputs": [],
   "source": []
  },
  {
   "cell_type": "code",
   "execution_count": 37,
   "metadata": {},
   "outputs": [
    {
     "name": "stdout",
     "output_type": "stream",
     "text": [
      "MAE: 0.21159329664832416\n"
     ]
    }
   ],
   "source": [
    "# Сравниваем предсказанные значения (y_pred) с реальными (y_test), и смотрим насколько они в среднем отличаются\n",
    "# Метрика называется Mean Absolute Error (MAE) и показывает среднее отклонение предсказанных значений от фактических.\n",
    "print('MAE:', metrics.mean_absolute_error(y_test, y_pred))"
   ]
  },
  {
   "cell_type": "code",
   "execution_count": null,
   "metadata": {},
   "outputs": [],
   "source": []
  }
 ],
 "metadata": {
  "kernelspec": {
   "display_name": "Python 3",
   "language": "python",
   "name": "python3"
  },
  "language_info": {
   "codemirror_mode": {
    "name": "ipython",
    "version": 3
   },
   "file_extension": ".py",
   "mimetype": "text/x-python",
   "name": "python",
   "nbconvert_exporter": "python",
   "pygments_lexer": "ipython3",
   "version": "3.8.5"
  }
 },
 "nbformat": 4,
 "nbformat_minor": 2
}
